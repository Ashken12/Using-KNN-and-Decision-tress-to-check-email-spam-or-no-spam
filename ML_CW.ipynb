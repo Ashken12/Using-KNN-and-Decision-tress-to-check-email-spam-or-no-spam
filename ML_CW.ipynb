{
  "nbformat": 4,
  "nbformat_minor": 0,
  "metadata": {
    "colab": {
      "provenance": [],
      "authorship_tag": "ABX9TyPdVDtyqGramu0vnwcsLNhN",
      "include_colab_link": true
    },
    "kernelspec": {
      "name": "python3",
      "display_name": "Python 3"
    },
    "language_info": {
      "name": "python"
    }
  },
  "cells": [
    {
      "cell_type": "markdown",
      "metadata": {
        "id": "view-in-github",
        "colab_type": "text"
      },
      "source": [
        "<a href=\"https://colab.research.google.com/github/Ashken12/Using-KNN-and-Decision-tress-to-check-email-spam-or-no-spam/blob/main/ML_CW.ipynb\" target=\"_parent\"><img src=\"https://colab.research.google.com/assets/colab-badge.svg\" alt=\"Open In Colab\"/></a>"
      ]
    },
    {
      "cell_type": "markdown",
      "source": [
        "Using PCA to reduce Dimensions\n"
      ],
      "metadata": {
        "id": "b0XZBEGpc8nI"
      }
    },
    {
      "cell_type": "code",
      "execution_count": 1,
      "metadata": {
        "colab": {
          "base_uri": "https://localhost:8080/",
          "height": 423
        },
        "id": "_8oHCLohMy8q",
        "outputId": "eac7d87b-0179-4dee-d096-544dd6a1f2d6"
      },
      "outputs": [
        {
          "output_type": "execute_result",
          "data": {
            "text/plain": [
              "         0  0.64  0.64.1  0.1  0.32   0.2   0.3   0.4   0.5   0.6  ...   0.41  \\\n",
              "0     0.21  0.28    0.50  0.0  0.14  0.28  0.21  0.07  0.00  0.94  ...  0.000   \n",
              "1     0.06  0.00    0.71  0.0  1.23  0.19  0.19  0.12  0.64  0.25  ...  0.010   \n",
              "2     0.00  0.00    0.00  0.0  0.63  0.00  0.31  0.63  0.31  0.63  ...  0.000   \n",
              "3     0.00  0.00    0.00  0.0  0.63  0.00  0.31  0.63  0.31  0.63  ...  0.000   \n",
              "4     0.00  0.00    0.00  0.0  1.85  0.00  0.00  1.85  0.00  0.00  ...  0.000   \n",
              "...    ...   ...     ...  ...   ...   ...   ...   ...   ...   ...  ...    ...   \n",
              "4595  0.31  0.00    0.62  0.0  0.00  0.31  0.00  0.00  0.00  0.00  ...  0.000   \n",
              "4596  0.00  0.00    0.00  0.0  0.00  0.00  0.00  0.00  0.00  0.00  ...  0.000   \n",
              "4597  0.30  0.00    0.30  0.0  0.00  0.00  0.00  0.00  0.00  0.00  ...  0.102   \n",
              "4598  0.96  0.00    0.00  0.0  0.32  0.00  0.00  0.00  0.00  0.00  ...  0.000   \n",
              "4599  0.00  0.00    0.65  0.0  0.00  0.00  0.00  0.00  0.00  0.00  ...  0.000   \n",
              "\n",
              "       0.42  0.43  0.778   0.44   0.45  3.756   61   278  1  \n",
              "0     0.132   0.0  0.372  0.180  0.048  5.114  101  1028  1  \n",
              "1     0.143   0.0  0.276  0.184  0.010  9.821  485  2259  1  \n",
              "2     0.137   0.0  0.137  0.000  0.000  3.537   40   191  1  \n",
              "3     0.135   0.0  0.135  0.000  0.000  3.537   40   191  1  \n",
              "4     0.223   0.0  0.000  0.000  0.000  3.000   15    54  1  \n",
              "...     ...   ...    ...    ...    ...    ...  ...   ... ..  \n",
              "4595  0.232   0.0  0.000  0.000  0.000  1.142    3    88  0  \n",
              "4596  0.000   0.0  0.353  0.000  0.000  1.555    4    14  0  \n",
              "4597  0.718   0.0  0.000  0.000  0.000  1.404    6   118  0  \n",
              "4598  0.057   0.0  0.000  0.000  0.000  1.147    5    78  0  \n",
              "4599  0.000   0.0  0.125  0.000  0.000  1.250    5    40  0  \n",
              "\n",
              "[4600 rows x 58 columns]"
            ],
            "text/html": [
              "\n",
              "  <div id=\"df-49a8652b-4373-442a-9cda-1323d7a2a9cf\">\n",
              "    <div class=\"colab-df-container\">\n",
              "      <div>\n",
              "<style scoped>\n",
              "    .dataframe tbody tr th:only-of-type {\n",
              "        vertical-align: middle;\n",
              "    }\n",
              "\n",
              "    .dataframe tbody tr th {\n",
              "        vertical-align: top;\n",
              "    }\n",
              "\n",
              "    .dataframe thead th {\n",
              "        text-align: right;\n",
              "    }\n",
              "</style>\n",
              "<table border=\"1\" class=\"dataframe\">\n",
              "  <thead>\n",
              "    <tr style=\"text-align: right;\">\n",
              "      <th></th>\n",
              "      <th>0</th>\n",
              "      <th>0.64</th>\n",
              "      <th>0.64.1</th>\n",
              "      <th>0.1</th>\n",
              "      <th>0.32</th>\n",
              "      <th>0.2</th>\n",
              "      <th>0.3</th>\n",
              "      <th>0.4</th>\n",
              "      <th>0.5</th>\n",
              "      <th>0.6</th>\n",
              "      <th>...</th>\n",
              "      <th>0.41</th>\n",
              "      <th>0.42</th>\n",
              "      <th>0.43</th>\n",
              "      <th>0.778</th>\n",
              "      <th>0.44</th>\n",
              "      <th>0.45</th>\n",
              "      <th>3.756</th>\n",
              "      <th>61</th>\n",
              "      <th>278</th>\n",
              "      <th>1</th>\n",
              "    </tr>\n",
              "  </thead>\n",
              "  <tbody>\n",
              "    <tr>\n",
              "      <th>0</th>\n",
              "      <td>0.21</td>\n",
              "      <td>0.28</td>\n",
              "      <td>0.50</td>\n",
              "      <td>0.0</td>\n",
              "      <td>0.14</td>\n",
              "      <td>0.28</td>\n",
              "      <td>0.21</td>\n",
              "      <td>0.07</td>\n",
              "      <td>0.00</td>\n",
              "      <td>0.94</td>\n",
              "      <td>...</td>\n",
              "      <td>0.000</td>\n",
              "      <td>0.132</td>\n",
              "      <td>0.0</td>\n",
              "      <td>0.372</td>\n",
              "      <td>0.180</td>\n",
              "      <td>0.048</td>\n",
              "      <td>5.114</td>\n",
              "      <td>101</td>\n",
              "      <td>1028</td>\n",
              "      <td>1</td>\n",
              "    </tr>\n",
              "    <tr>\n",
              "      <th>1</th>\n",
              "      <td>0.06</td>\n",
              "      <td>0.00</td>\n",
              "      <td>0.71</td>\n",
              "      <td>0.0</td>\n",
              "      <td>1.23</td>\n",
              "      <td>0.19</td>\n",
              "      <td>0.19</td>\n",
              "      <td>0.12</td>\n",
              "      <td>0.64</td>\n",
              "      <td>0.25</td>\n",
              "      <td>...</td>\n",
              "      <td>0.010</td>\n",
              "      <td>0.143</td>\n",
              "      <td>0.0</td>\n",
              "      <td>0.276</td>\n",
              "      <td>0.184</td>\n",
              "      <td>0.010</td>\n",
              "      <td>9.821</td>\n",
              "      <td>485</td>\n",
              "      <td>2259</td>\n",
              "      <td>1</td>\n",
              "    </tr>\n",
              "    <tr>\n",
              "      <th>2</th>\n",
              "      <td>0.00</td>\n",
              "      <td>0.00</td>\n",
              "      <td>0.00</td>\n",
              "      <td>0.0</td>\n",
              "      <td>0.63</td>\n",
              "      <td>0.00</td>\n",
              "      <td>0.31</td>\n",
              "      <td>0.63</td>\n",
              "      <td>0.31</td>\n",
              "      <td>0.63</td>\n",
              "      <td>...</td>\n",
              "      <td>0.000</td>\n",
              "      <td>0.137</td>\n",
              "      <td>0.0</td>\n",
              "      <td>0.137</td>\n",
              "      <td>0.000</td>\n",
              "      <td>0.000</td>\n",
              "      <td>3.537</td>\n",
              "      <td>40</td>\n",
              "      <td>191</td>\n",
              "      <td>1</td>\n",
              "    </tr>\n",
              "    <tr>\n",
              "      <th>3</th>\n",
              "      <td>0.00</td>\n",
              "      <td>0.00</td>\n",
              "      <td>0.00</td>\n",
              "      <td>0.0</td>\n",
              "      <td>0.63</td>\n",
              "      <td>0.00</td>\n",
              "      <td>0.31</td>\n",
              "      <td>0.63</td>\n",
              "      <td>0.31</td>\n",
              "      <td>0.63</td>\n",
              "      <td>...</td>\n",
              "      <td>0.000</td>\n",
              "      <td>0.135</td>\n",
              "      <td>0.0</td>\n",
              "      <td>0.135</td>\n",
              "      <td>0.000</td>\n",
              "      <td>0.000</td>\n",
              "      <td>3.537</td>\n",
              "      <td>40</td>\n",
              "      <td>191</td>\n",
              "      <td>1</td>\n",
              "    </tr>\n",
              "    <tr>\n",
              "      <th>4</th>\n",
              "      <td>0.00</td>\n",
              "      <td>0.00</td>\n",
              "      <td>0.00</td>\n",
              "      <td>0.0</td>\n",
              "      <td>1.85</td>\n",
              "      <td>0.00</td>\n",
              "      <td>0.00</td>\n",
              "      <td>1.85</td>\n",
              "      <td>0.00</td>\n",
              "      <td>0.00</td>\n",
              "      <td>...</td>\n",
              "      <td>0.000</td>\n",
              "      <td>0.223</td>\n",
              "      <td>0.0</td>\n",
              "      <td>0.000</td>\n",
              "      <td>0.000</td>\n",
              "      <td>0.000</td>\n",
              "      <td>3.000</td>\n",
              "      <td>15</td>\n",
              "      <td>54</td>\n",
              "      <td>1</td>\n",
              "    </tr>\n",
              "    <tr>\n",
              "      <th>...</th>\n",
              "      <td>...</td>\n",
              "      <td>...</td>\n",
              "      <td>...</td>\n",
              "      <td>...</td>\n",
              "      <td>...</td>\n",
              "      <td>...</td>\n",
              "      <td>...</td>\n",
              "      <td>...</td>\n",
              "      <td>...</td>\n",
              "      <td>...</td>\n",
              "      <td>...</td>\n",
              "      <td>...</td>\n",
              "      <td>...</td>\n",
              "      <td>...</td>\n",
              "      <td>...</td>\n",
              "      <td>...</td>\n",
              "      <td>...</td>\n",
              "      <td>...</td>\n",
              "      <td>...</td>\n",
              "      <td>...</td>\n",
              "      <td>...</td>\n",
              "    </tr>\n",
              "    <tr>\n",
              "      <th>4595</th>\n",
              "      <td>0.31</td>\n",
              "      <td>0.00</td>\n",
              "      <td>0.62</td>\n",
              "      <td>0.0</td>\n",
              "      <td>0.00</td>\n",
              "      <td>0.31</td>\n",
              "      <td>0.00</td>\n",
              "      <td>0.00</td>\n",
              "      <td>0.00</td>\n",
              "      <td>0.00</td>\n",
              "      <td>...</td>\n",
              "      <td>0.000</td>\n",
              "      <td>0.232</td>\n",
              "      <td>0.0</td>\n",
              "      <td>0.000</td>\n",
              "      <td>0.000</td>\n",
              "      <td>0.000</td>\n",
              "      <td>1.142</td>\n",
              "      <td>3</td>\n",
              "      <td>88</td>\n",
              "      <td>0</td>\n",
              "    </tr>\n",
              "    <tr>\n",
              "      <th>4596</th>\n",
              "      <td>0.00</td>\n",
              "      <td>0.00</td>\n",
              "      <td>0.00</td>\n",
              "      <td>0.0</td>\n",
              "      <td>0.00</td>\n",
              "      <td>0.00</td>\n",
              "      <td>0.00</td>\n",
              "      <td>0.00</td>\n",
              "      <td>0.00</td>\n",
              "      <td>0.00</td>\n",
              "      <td>...</td>\n",
              "      <td>0.000</td>\n",
              "      <td>0.000</td>\n",
              "      <td>0.0</td>\n",
              "      <td>0.353</td>\n",
              "      <td>0.000</td>\n",
              "      <td>0.000</td>\n",
              "      <td>1.555</td>\n",
              "      <td>4</td>\n",
              "      <td>14</td>\n",
              "      <td>0</td>\n",
              "    </tr>\n",
              "    <tr>\n",
              "      <th>4597</th>\n",
              "      <td>0.30</td>\n",
              "      <td>0.00</td>\n",
              "      <td>0.30</td>\n",
              "      <td>0.0</td>\n",
              "      <td>0.00</td>\n",
              "      <td>0.00</td>\n",
              "      <td>0.00</td>\n",
              "      <td>0.00</td>\n",
              "      <td>0.00</td>\n",
              "      <td>0.00</td>\n",
              "      <td>...</td>\n",
              "      <td>0.102</td>\n",
              "      <td>0.718</td>\n",
              "      <td>0.0</td>\n",
              "      <td>0.000</td>\n",
              "      <td>0.000</td>\n",
              "      <td>0.000</td>\n",
              "      <td>1.404</td>\n",
              "      <td>6</td>\n",
              "      <td>118</td>\n",
              "      <td>0</td>\n",
              "    </tr>\n",
              "    <tr>\n",
              "      <th>4598</th>\n",
              "      <td>0.96</td>\n",
              "      <td>0.00</td>\n",
              "      <td>0.00</td>\n",
              "      <td>0.0</td>\n",
              "      <td>0.32</td>\n",
              "      <td>0.00</td>\n",
              "      <td>0.00</td>\n",
              "      <td>0.00</td>\n",
              "      <td>0.00</td>\n",
              "      <td>0.00</td>\n",
              "      <td>...</td>\n",
              "      <td>0.000</td>\n",
              "      <td>0.057</td>\n",
              "      <td>0.0</td>\n",
              "      <td>0.000</td>\n",
              "      <td>0.000</td>\n",
              "      <td>0.000</td>\n",
              "      <td>1.147</td>\n",
              "      <td>5</td>\n",
              "      <td>78</td>\n",
              "      <td>0</td>\n",
              "    </tr>\n",
              "    <tr>\n",
              "      <th>4599</th>\n",
              "      <td>0.00</td>\n",
              "      <td>0.00</td>\n",
              "      <td>0.65</td>\n",
              "      <td>0.0</td>\n",
              "      <td>0.00</td>\n",
              "      <td>0.00</td>\n",
              "      <td>0.00</td>\n",
              "      <td>0.00</td>\n",
              "      <td>0.00</td>\n",
              "      <td>0.00</td>\n",
              "      <td>...</td>\n",
              "      <td>0.000</td>\n",
              "      <td>0.000</td>\n",
              "      <td>0.0</td>\n",
              "      <td>0.125</td>\n",
              "      <td>0.000</td>\n",
              "      <td>0.000</td>\n",
              "      <td>1.250</td>\n",
              "      <td>5</td>\n",
              "      <td>40</td>\n",
              "      <td>0</td>\n",
              "    </tr>\n",
              "  </tbody>\n",
              "</table>\n",
              "<p>4600 rows × 58 columns</p>\n",
              "</div>\n",
              "      <button class=\"colab-df-convert\" onclick=\"convertToInteractive('df-49a8652b-4373-442a-9cda-1323d7a2a9cf')\"\n",
              "              title=\"Convert this dataframe to an interactive table.\"\n",
              "              style=\"display:none;\">\n",
              "        \n",
              "  <svg xmlns=\"http://www.w3.org/2000/svg\" height=\"24px\"viewBox=\"0 0 24 24\"\n",
              "       width=\"24px\">\n",
              "    <path d=\"M0 0h24v24H0V0z\" fill=\"none\"/>\n",
              "    <path d=\"M18.56 5.44l.94 2.06.94-2.06 2.06-.94-2.06-.94-.94-2.06-.94 2.06-2.06.94zm-11 1L8.5 8.5l.94-2.06 2.06-.94-2.06-.94L8.5 2.5l-.94 2.06-2.06.94zm10 10l.94 2.06.94-2.06 2.06-.94-2.06-.94-.94-2.06-.94 2.06-2.06.94z\"/><path d=\"M17.41 7.96l-1.37-1.37c-.4-.4-.92-.59-1.43-.59-.52 0-1.04.2-1.43.59L10.3 9.45l-7.72 7.72c-.78.78-.78 2.05 0 2.83L4 21.41c.39.39.9.59 1.41.59.51 0 1.02-.2 1.41-.59l7.78-7.78 2.81-2.81c.8-.78.8-2.07 0-2.86zM5.41 20L4 18.59l7.72-7.72 1.47 1.35L5.41 20z\"/>\n",
              "  </svg>\n",
              "      </button>\n",
              "      \n",
              "  <style>\n",
              "    .colab-df-container {\n",
              "      display:flex;\n",
              "      flex-wrap:wrap;\n",
              "      gap: 12px;\n",
              "    }\n",
              "\n",
              "    .colab-df-convert {\n",
              "      background-color: #E8F0FE;\n",
              "      border: none;\n",
              "      border-radius: 50%;\n",
              "      cursor: pointer;\n",
              "      display: none;\n",
              "      fill: #1967D2;\n",
              "      height: 32px;\n",
              "      padding: 0 0 0 0;\n",
              "      width: 32px;\n",
              "    }\n",
              "\n",
              "    .colab-df-convert:hover {\n",
              "      background-color: #E2EBFA;\n",
              "      box-shadow: 0px 1px 2px rgba(60, 64, 67, 0.3), 0px 1px 3px 1px rgba(60, 64, 67, 0.15);\n",
              "      fill: #174EA6;\n",
              "    }\n",
              "\n",
              "    [theme=dark] .colab-df-convert {\n",
              "      background-color: #3B4455;\n",
              "      fill: #D2E3FC;\n",
              "    }\n",
              "\n",
              "    [theme=dark] .colab-df-convert:hover {\n",
              "      background-color: #434B5C;\n",
              "      box-shadow: 0px 1px 3px 1px rgba(0, 0, 0, 0.15);\n",
              "      filter: drop-shadow(0px 1px 2px rgba(0, 0, 0, 0.3));\n",
              "      fill: #FFFFFF;\n",
              "    }\n",
              "  </style>\n",
              "\n",
              "      <script>\n",
              "        const buttonEl =\n",
              "          document.querySelector('#df-49a8652b-4373-442a-9cda-1323d7a2a9cf button.colab-df-convert');\n",
              "        buttonEl.style.display =\n",
              "          google.colab.kernel.accessAllowed ? 'block' : 'none';\n",
              "\n",
              "        async function convertToInteractive(key) {\n",
              "          const element = document.querySelector('#df-49a8652b-4373-442a-9cda-1323d7a2a9cf');\n",
              "          const dataTable =\n",
              "            await google.colab.kernel.invokeFunction('convertToInteractive',\n",
              "                                                     [key], {});\n",
              "          if (!dataTable) return;\n",
              "\n",
              "          const docLinkHtml = 'Like what you see? Visit the ' +\n",
              "            '<a target=\"_blank\" href=https://colab.research.google.com/notebooks/data_table.ipynb>data table notebook</a>'\n",
              "            + ' to learn more about interactive tables.';\n",
              "          element.innerHTML = '';\n",
              "          dataTable['output_type'] = 'display_data';\n",
              "          await google.colab.output.renderOutput(dataTable, element);\n",
              "          const docLink = document.createElement('div');\n",
              "          docLink.innerHTML = docLinkHtml;\n",
              "          element.appendChild(docLink);\n",
              "        }\n",
              "      </script>\n",
              "    </div>\n",
              "  </div>\n",
              "  "
            ]
          },
          "metadata": {},
          "execution_count": 1
        }
      ],
      "source": [
        "\n",
        "import pandas as pd\n",
        "import numpy as np\n",
        "import matplotlib.pyplot as plt1\n",
        "%matplotlib inline\n",
        "import seaborn as sn\n",
        "dataset = pd.read_csv('spambase.data')\n",
        "dataset"
      ]
    },
    {
      "cell_type": "code",
      "source": [
        "dataset.isna().sum()\n",
        "X_data = dataset.drop('1', axis=1)\n",
        "y_data = dataset['1']\n",
        "#plt1.plot(X_data,label='Inputs to decide the email')\n",
        "#plt1.plot(y_data,label='Spam or non-spam')\n",
        "#plt1.show()\n",
        "\n",
        "\n",
        "\n",
        "\n"
      ],
      "metadata": {
        "id": "RU9Fjw3L2R0E"
      },
      "execution_count": 2,
      "outputs": []
    },
    {
      "cell_type": "code",
      "source": [
        "from sklearn.preprocessing import StandardScaler\n",
        "scaler=StandardScaler()\n",
        "scaled_data=scaler.fit_transform(X_data)"
      ],
      "metadata": {
        "id": "i6IKhUE64Mug"
      },
      "execution_count": 3,
      "outputs": []
    },
    {
      "cell_type": "code",
      "source": [
        "df=pd.DataFrame(data=scaled_data, columns= X_data.columns)\n",
        "df\n"
      ],
      "metadata": {
        "colab": {
          "base_uri": "https://localhost:8080/",
          "height": 487
        },
        "id": "7kj8G_kD4i5j",
        "outputId": "ffed87f2-99c5-4bc4-ba0c-dc036910a361"
      },
      "execution_count": 4,
      "outputs": [
        {
          "output_type": "execute_result",
          "data": {
            "text/plain": [
              "             0      0.64    0.64.1       0.1      0.32       0.2       0.3  \\\n",
              "0     0.345252  0.051976  0.435261 -0.046905 -0.256087  0.672259  0.244655   \n",
              "1    -0.145982 -0.164984  0.851833 -0.046905  1.364700  0.343576  0.193562   \n",
              "2    -0.342475 -0.164984 -0.556576 -0.046905  0.472524 -0.350309  0.500124   \n",
              "3    -0.342475 -0.164984 -0.556576 -0.046905  0.472524 -0.350309  0.500124   \n",
              "4    -0.342475 -0.164984 -0.556576 -0.046905  2.286616 -0.350309 -0.291828   \n",
              "...        ...       ...       ...       ...       ...       ...       ...   \n",
              "4595  0.672741 -0.164984  0.673302 -0.046905 -0.464261  0.781820 -0.291828   \n",
              "4596 -0.342475 -0.164984 -0.556576 -0.046905 -0.464261 -0.350309 -0.291828   \n",
              "4597  0.639992 -0.164984  0.038526 -0.046905 -0.464261 -0.350309 -0.291828   \n",
              "4598  2.801420 -0.164984 -0.556576 -0.046905  0.011566 -0.350309 -0.291828   \n",
              "4599 -0.342475 -0.164984  0.732812 -0.046905 -0.464261 -0.350309 -0.291828   \n",
              "\n",
              "           0.4       0.5       0.6  ...      0.40      0.41      0.42  \\\n",
              "0    -0.088058 -0.323341  1.086529  ... -0.111559 -0.158471 -0.026117   \n",
              "1     0.036609  1.973754  0.016339  ... -0.111559 -0.117398  0.014571   \n",
              "2     1.308212  0.789315  0.605719  ... -0.111559 -0.158471 -0.007622   \n",
              "3     1.308212  0.789315  0.605719  ... -0.111559 -0.158471 -0.015020   \n",
              "4     4.350087 -0.323341 -0.371410  ... -0.111559 -0.158471  0.310487   \n",
              "...        ...       ...       ...  ...       ...       ...       ...   \n",
              "4595 -0.262592 -0.323341 -0.371410  ... -0.111559 -0.158471  0.343777   \n",
              "4596 -0.262592 -0.323341 -0.371410  ... -0.111559 -0.158471 -0.514377   \n",
              "4597 -0.262592 -0.323341 -0.371410  ... -0.111559  0.260471  2.141463   \n",
              "4598 -0.262592 -0.323341 -0.371410  ... -0.111559 -0.158471 -0.303538   \n",
              "4599 -0.262592 -0.323341 -0.371410  ... -0.111559 -0.158471 -0.514377   \n",
              "\n",
              "          0.43     0.778      0.44      0.45     3.756        61       278  \n",
              "0    -0.155215  0.126330  0.423674  0.008739 -0.002453  0.250546  1.228189  \n",
              "1    -0.155215  0.008631  0.439942 -0.079768  0.145895  2.220875  3.258376  \n",
              "2    -0.155215 -0.161788 -0.308392 -0.103060 -0.052154 -0.062450 -0.152207  \n",
              "3    -0.155215 -0.164240 -0.308392 -0.103060 -0.052154 -0.062450 -0.152207  \n",
              "4    -0.155215 -0.329755 -0.308392 -0.103060 -0.069079 -0.190726 -0.378150  \n",
              "...        ...       ...       ...       ...       ...       ...       ...  \n",
              "4595 -0.155215 -0.329755 -0.308392 -0.103060 -0.127636 -0.252299 -0.322077  \n",
              "4596 -0.155215  0.103036 -0.308392 -0.103060 -0.114620 -0.247168 -0.444119  \n",
              "4597 -0.155215 -0.329755 -0.308392 -0.103060 -0.119379 -0.236906 -0.272600  \n",
              "4598 -0.155215 -0.329755 -0.308392 -0.103060 -0.127479 -0.242037 -0.338569  \n",
              "4599 -0.155215 -0.176500 -0.308392 -0.103060 -0.124232 -0.242037 -0.401239  \n",
              "\n",
              "[4600 rows x 57 columns]"
            ],
            "text/html": [
              "\n",
              "  <div id=\"df-c07a56b7-4349-4ff8-906e-75b70e1e5588\">\n",
              "    <div class=\"colab-df-container\">\n",
              "      <div>\n",
              "<style scoped>\n",
              "    .dataframe tbody tr th:only-of-type {\n",
              "        vertical-align: middle;\n",
              "    }\n",
              "\n",
              "    .dataframe tbody tr th {\n",
              "        vertical-align: top;\n",
              "    }\n",
              "\n",
              "    .dataframe thead th {\n",
              "        text-align: right;\n",
              "    }\n",
              "</style>\n",
              "<table border=\"1\" class=\"dataframe\">\n",
              "  <thead>\n",
              "    <tr style=\"text-align: right;\">\n",
              "      <th></th>\n",
              "      <th>0</th>\n",
              "      <th>0.64</th>\n",
              "      <th>0.64.1</th>\n",
              "      <th>0.1</th>\n",
              "      <th>0.32</th>\n",
              "      <th>0.2</th>\n",
              "      <th>0.3</th>\n",
              "      <th>0.4</th>\n",
              "      <th>0.5</th>\n",
              "      <th>0.6</th>\n",
              "      <th>...</th>\n",
              "      <th>0.40</th>\n",
              "      <th>0.41</th>\n",
              "      <th>0.42</th>\n",
              "      <th>0.43</th>\n",
              "      <th>0.778</th>\n",
              "      <th>0.44</th>\n",
              "      <th>0.45</th>\n",
              "      <th>3.756</th>\n",
              "      <th>61</th>\n",
              "      <th>278</th>\n",
              "    </tr>\n",
              "  </thead>\n",
              "  <tbody>\n",
              "    <tr>\n",
              "      <th>0</th>\n",
              "      <td>0.345252</td>\n",
              "      <td>0.051976</td>\n",
              "      <td>0.435261</td>\n",
              "      <td>-0.046905</td>\n",
              "      <td>-0.256087</td>\n",
              "      <td>0.672259</td>\n",
              "      <td>0.244655</td>\n",
              "      <td>-0.088058</td>\n",
              "      <td>-0.323341</td>\n",
              "      <td>1.086529</td>\n",
              "      <td>...</td>\n",
              "      <td>-0.111559</td>\n",
              "      <td>-0.158471</td>\n",
              "      <td>-0.026117</td>\n",
              "      <td>-0.155215</td>\n",
              "      <td>0.126330</td>\n",
              "      <td>0.423674</td>\n",
              "      <td>0.008739</td>\n",
              "      <td>-0.002453</td>\n",
              "      <td>0.250546</td>\n",
              "      <td>1.228189</td>\n",
              "    </tr>\n",
              "    <tr>\n",
              "      <th>1</th>\n",
              "      <td>-0.145982</td>\n",
              "      <td>-0.164984</td>\n",
              "      <td>0.851833</td>\n",
              "      <td>-0.046905</td>\n",
              "      <td>1.364700</td>\n",
              "      <td>0.343576</td>\n",
              "      <td>0.193562</td>\n",
              "      <td>0.036609</td>\n",
              "      <td>1.973754</td>\n",
              "      <td>0.016339</td>\n",
              "      <td>...</td>\n",
              "      <td>-0.111559</td>\n",
              "      <td>-0.117398</td>\n",
              "      <td>0.014571</td>\n",
              "      <td>-0.155215</td>\n",
              "      <td>0.008631</td>\n",
              "      <td>0.439942</td>\n",
              "      <td>-0.079768</td>\n",
              "      <td>0.145895</td>\n",
              "      <td>2.220875</td>\n",
              "      <td>3.258376</td>\n",
              "    </tr>\n",
              "    <tr>\n",
              "      <th>2</th>\n",
              "      <td>-0.342475</td>\n",
              "      <td>-0.164984</td>\n",
              "      <td>-0.556576</td>\n",
              "      <td>-0.046905</td>\n",
              "      <td>0.472524</td>\n",
              "      <td>-0.350309</td>\n",
              "      <td>0.500124</td>\n",
              "      <td>1.308212</td>\n",
              "      <td>0.789315</td>\n",
              "      <td>0.605719</td>\n",
              "      <td>...</td>\n",
              "      <td>-0.111559</td>\n",
              "      <td>-0.158471</td>\n",
              "      <td>-0.007622</td>\n",
              "      <td>-0.155215</td>\n",
              "      <td>-0.161788</td>\n",
              "      <td>-0.308392</td>\n",
              "      <td>-0.103060</td>\n",
              "      <td>-0.052154</td>\n",
              "      <td>-0.062450</td>\n",
              "      <td>-0.152207</td>\n",
              "    </tr>\n",
              "    <tr>\n",
              "      <th>3</th>\n",
              "      <td>-0.342475</td>\n",
              "      <td>-0.164984</td>\n",
              "      <td>-0.556576</td>\n",
              "      <td>-0.046905</td>\n",
              "      <td>0.472524</td>\n",
              "      <td>-0.350309</td>\n",
              "      <td>0.500124</td>\n",
              "      <td>1.308212</td>\n",
              "      <td>0.789315</td>\n",
              "      <td>0.605719</td>\n",
              "      <td>...</td>\n",
              "      <td>-0.111559</td>\n",
              "      <td>-0.158471</td>\n",
              "      <td>-0.015020</td>\n",
              "      <td>-0.155215</td>\n",
              "      <td>-0.164240</td>\n",
              "      <td>-0.308392</td>\n",
              "      <td>-0.103060</td>\n",
              "      <td>-0.052154</td>\n",
              "      <td>-0.062450</td>\n",
              "      <td>-0.152207</td>\n",
              "    </tr>\n",
              "    <tr>\n",
              "      <th>4</th>\n",
              "      <td>-0.342475</td>\n",
              "      <td>-0.164984</td>\n",
              "      <td>-0.556576</td>\n",
              "      <td>-0.046905</td>\n",
              "      <td>2.286616</td>\n",
              "      <td>-0.350309</td>\n",
              "      <td>-0.291828</td>\n",
              "      <td>4.350087</td>\n",
              "      <td>-0.323341</td>\n",
              "      <td>-0.371410</td>\n",
              "      <td>...</td>\n",
              "      <td>-0.111559</td>\n",
              "      <td>-0.158471</td>\n",
              "      <td>0.310487</td>\n",
              "      <td>-0.155215</td>\n",
              "      <td>-0.329755</td>\n",
              "      <td>-0.308392</td>\n",
              "      <td>-0.103060</td>\n",
              "      <td>-0.069079</td>\n",
              "      <td>-0.190726</td>\n",
              "      <td>-0.378150</td>\n",
              "    </tr>\n",
              "    <tr>\n",
              "      <th>...</th>\n",
              "      <td>...</td>\n",
              "      <td>...</td>\n",
              "      <td>...</td>\n",
              "      <td>...</td>\n",
              "      <td>...</td>\n",
              "      <td>...</td>\n",
              "      <td>...</td>\n",
              "      <td>...</td>\n",
              "      <td>...</td>\n",
              "      <td>...</td>\n",
              "      <td>...</td>\n",
              "      <td>...</td>\n",
              "      <td>...</td>\n",
              "      <td>...</td>\n",
              "      <td>...</td>\n",
              "      <td>...</td>\n",
              "      <td>...</td>\n",
              "      <td>...</td>\n",
              "      <td>...</td>\n",
              "      <td>...</td>\n",
              "      <td>...</td>\n",
              "    </tr>\n",
              "    <tr>\n",
              "      <th>4595</th>\n",
              "      <td>0.672741</td>\n",
              "      <td>-0.164984</td>\n",
              "      <td>0.673302</td>\n",
              "      <td>-0.046905</td>\n",
              "      <td>-0.464261</td>\n",
              "      <td>0.781820</td>\n",
              "      <td>-0.291828</td>\n",
              "      <td>-0.262592</td>\n",
              "      <td>-0.323341</td>\n",
              "      <td>-0.371410</td>\n",
              "      <td>...</td>\n",
              "      <td>-0.111559</td>\n",
              "      <td>-0.158471</td>\n",
              "      <td>0.343777</td>\n",
              "      <td>-0.155215</td>\n",
              "      <td>-0.329755</td>\n",
              "      <td>-0.308392</td>\n",
              "      <td>-0.103060</td>\n",
              "      <td>-0.127636</td>\n",
              "      <td>-0.252299</td>\n",
              "      <td>-0.322077</td>\n",
              "    </tr>\n",
              "    <tr>\n",
              "      <th>4596</th>\n",
              "      <td>-0.342475</td>\n",
              "      <td>-0.164984</td>\n",
              "      <td>-0.556576</td>\n",
              "      <td>-0.046905</td>\n",
              "      <td>-0.464261</td>\n",
              "      <td>-0.350309</td>\n",
              "      <td>-0.291828</td>\n",
              "      <td>-0.262592</td>\n",
              "      <td>-0.323341</td>\n",
              "      <td>-0.371410</td>\n",
              "      <td>...</td>\n",
              "      <td>-0.111559</td>\n",
              "      <td>-0.158471</td>\n",
              "      <td>-0.514377</td>\n",
              "      <td>-0.155215</td>\n",
              "      <td>0.103036</td>\n",
              "      <td>-0.308392</td>\n",
              "      <td>-0.103060</td>\n",
              "      <td>-0.114620</td>\n",
              "      <td>-0.247168</td>\n",
              "      <td>-0.444119</td>\n",
              "    </tr>\n",
              "    <tr>\n",
              "      <th>4597</th>\n",
              "      <td>0.639992</td>\n",
              "      <td>-0.164984</td>\n",
              "      <td>0.038526</td>\n",
              "      <td>-0.046905</td>\n",
              "      <td>-0.464261</td>\n",
              "      <td>-0.350309</td>\n",
              "      <td>-0.291828</td>\n",
              "      <td>-0.262592</td>\n",
              "      <td>-0.323341</td>\n",
              "      <td>-0.371410</td>\n",
              "      <td>...</td>\n",
              "      <td>-0.111559</td>\n",
              "      <td>0.260471</td>\n",
              "      <td>2.141463</td>\n",
              "      <td>-0.155215</td>\n",
              "      <td>-0.329755</td>\n",
              "      <td>-0.308392</td>\n",
              "      <td>-0.103060</td>\n",
              "      <td>-0.119379</td>\n",
              "      <td>-0.236906</td>\n",
              "      <td>-0.272600</td>\n",
              "    </tr>\n",
              "    <tr>\n",
              "      <th>4598</th>\n",
              "      <td>2.801420</td>\n",
              "      <td>-0.164984</td>\n",
              "      <td>-0.556576</td>\n",
              "      <td>-0.046905</td>\n",
              "      <td>0.011566</td>\n",
              "      <td>-0.350309</td>\n",
              "      <td>-0.291828</td>\n",
              "      <td>-0.262592</td>\n",
              "      <td>-0.323341</td>\n",
              "      <td>-0.371410</td>\n",
              "      <td>...</td>\n",
              "      <td>-0.111559</td>\n",
              "      <td>-0.158471</td>\n",
              "      <td>-0.303538</td>\n",
              "      <td>-0.155215</td>\n",
              "      <td>-0.329755</td>\n",
              "      <td>-0.308392</td>\n",
              "      <td>-0.103060</td>\n",
              "      <td>-0.127479</td>\n",
              "      <td>-0.242037</td>\n",
              "      <td>-0.338569</td>\n",
              "    </tr>\n",
              "    <tr>\n",
              "      <th>4599</th>\n",
              "      <td>-0.342475</td>\n",
              "      <td>-0.164984</td>\n",
              "      <td>0.732812</td>\n",
              "      <td>-0.046905</td>\n",
              "      <td>-0.464261</td>\n",
              "      <td>-0.350309</td>\n",
              "      <td>-0.291828</td>\n",
              "      <td>-0.262592</td>\n",
              "      <td>-0.323341</td>\n",
              "      <td>-0.371410</td>\n",
              "      <td>...</td>\n",
              "      <td>-0.111559</td>\n",
              "      <td>-0.158471</td>\n",
              "      <td>-0.514377</td>\n",
              "      <td>-0.155215</td>\n",
              "      <td>-0.176500</td>\n",
              "      <td>-0.308392</td>\n",
              "      <td>-0.103060</td>\n",
              "      <td>-0.124232</td>\n",
              "      <td>-0.242037</td>\n",
              "      <td>-0.401239</td>\n",
              "    </tr>\n",
              "  </tbody>\n",
              "</table>\n",
              "<p>4600 rows × 57 columns</p>\n",
              "</div>\n",
              "      <button class=\"colab-df-convert\" onclick=\"convertToInteractive('df-c07a56b7-4349-4ff8-906e-75b70e1e5588')\"\n",
              "              title=\"Convert this dataframe to an interactive table.\"\n",
              "              style=\"display:none;\">\n",
              "        \n",
              "  <svg xmlns=\"http://www.w3.org/2000/svg\" height=\"24px\"viewBox=\"0 0 24 24\"\n",
              "       width=\"24px\">\n",
              "    <path d=\"M0 0h24v24H0V0z\" fill=\"none\"/>\n",
              "    <path d=\"M18.56 5.44l.94 2.06.94-2.06 2.06-.94-2.06-.94-.94-2.06-.94 2.06-2.06.94zm-11 1L8.5 8.5l.94-2.06 2.06-.94-2.06-.94L8.5 2.5l-.94 2.06-2.06.94zm10 10l.94 2.06.94-2.06 2.06-.94-2.06-.94-.94-2.06-.94 2.06-2.06.94z\"/><path d=\"M17.41 7.96l-1.37-1.37c-.4-.4-.92-.59-1.43-.59-.52 0-1.04.2-1.43.59L10.3 9.45l-7.72 7.72c-.78.78-.78 2.05 0 2.83L4 21.41c.39.39.9.59 1.41.59.51 0 1.02-.2 1.41-.59l7.78-7.78 2.81-2.81c.8-.78.8-2.07 0-2.86zM5.41 20L4 18.59l7.72-7.72 1.47 1.35L5.41 20z\"/>\n",
              "  </svg>\n",
              "      </button>\n",
              "      \n",
              "  <style>\n",
              "    .colab-df-container {\n",
              "      display:flex;\n",
              "      flex-wrap:wrap;\n",
              "      gap: 12px;\n",
              "    }\n",
              "\n",
              "    .colab-df-convert {\n",
              "      background-color: #E8F0FE;\n",
              "      border: none;\n",
              "      border-radius: 50%;\n",
              "      cursor: pointer;\n",
              "      display: none;\n",
              "      fill: #1967D2;\n",
              "      height: 32px;\n",
              "      padding: 0 0 0 0;\n",
              "      width: 32px;\n",
              "    }\n",
              "\n",
              "    .colab-df-convert:hover {\n",
              "      background-color: #E2EBFA;\n",
              "      box-shadow: 0px 1px 2px rgba(60, 64, 67, 0.3), 0px 1px 3px 1px rgba(60, 64, 67, 0.15);\n",
              "      fill: #174EA6;\n",
              "    }\n",
              "\n",
              "    [theme=dark] .colab-df-convert {\n",
              "      background-color: #3B4455;\n",
              "      fill: #D2E3FC;\n",
              "    }\n",
              "\n",
              "    [theme=dark] .colab-df-convert:hover {\n",
              "      background-color: #434B5C;\n",
              "      box-shadow: 0px 1px 3px 1px rgba(0, 0, 0, 0.15);\n",
              "      filter: drop-shadow(0px 1px 2px rgba(0, 0, 0, 0.3));\n",
              "      fill: #FFFFFF;\n",
              "    }\n",
              "  </style>\n",
              "\n",
              "      <script>\n",
              "        const buttonEl =\n",
              "          document.querySelector('#df-c07a56b7-4349-4ff8-906e-75b70e1e5588 button.colab-df-convert');\n",
              "        buttonEl.style.display =\n",
              "          google.colab.kernel.accessAllowed ? 'block' : 'none';\n",
              "\n",
              "        async function convertToInteractive(key) {\n",
              "          const element = document.querySelector('#df-c07a56b7-4349-4ff8-906e-75b70e1e5588');\n",
              "          const dataTable =\n",
              "            await google.colab.kernel.invokeFunction('convertToInteractive',\n",
              "                                                     [key], {});\n",
              "          if (!dataTable) return;\n",
              "\n",
              "          const docLinkHtml = 'Like what you see? Visit the ' +\n",
              "            '<a target=\"_blank\" href=https://colab.research.google.com/notebooks/data_table.ipynb>data table notebook</a>'\n",
              "            + ' to learn more about interactive tables.';\n",
              "          element.innerHTML = '';\n",
              "          dataTable['output_type'] = 'display_data';\n",
              "          await google.colab.output.renderOutput(dataTable, element);\n",
              "          const docLink = document.createElement('div');\n",
              "          docLink.innerHTML = docLinkHtml;\n",
              "          element.appendChild(docLink);\n",
              "        }\n",
              "      </script>\n",
              "    </div>\n",
              "  </div>\n",
              "  "
            ]
          },
          "metadata": {},
          "execution_count": 4
        }
      ]
    },
    {
      "cell_type": "code",
      "source": [
        "from sklearn.decomposition import PCA\n",
        "pca1 = PCA()\n",
        "principalComponents = pca1.fit_transform(df)\n",
        "plt1.figure()\n",
        "plt1.plot(np.cumsum(pca1.explained_variance_ratio_))\n",
        "plt1.xlabel('Number of Components')\n",
        "plt1.ylabel('Variance') \n",
        "plt1.title('Explained Variance')\n",
        "plt1.axhline(y=0.90, color='y', linestyle='-')\n",
        "plt1.show()\n",
        "\n"
      ],
      "metadata": {
        "colab": {
          "base_uri": "https://localhost:8080/",
          "height": 295
        },
        "id": "ov0qKJ5B40Wt",
        "outputId": "45b4ee38-4475-4473-a668-773f63921161"
      },
      "execution_count": 5,
      "outputs": [
        {
          "output_type": "display_data",
          "data": {
            "text/plain": [
              "<Figure size 432x288 with 1 Axes>"
            ],
            "image/png": "[encoded data removed]"
          },
          "metadata": {
            "needs_background": "light"
          }
        }
      ]
    },
    {
      "cell_type": "code",
      "source": [
        "pca = PCA(0.90)\n",
        "new_data_train = pca.fit_transform(df)\n",
        "print(new_data_train)\n",
        "print(new_data_train.shape)\n",
        "principal_Df = pd.DataFrame(data=new_data_train,\n",
        "                            columns=['principal component {}'.format(i) for i in range(1, 44)])\n",
        "principal_Df"
      ],
      "metadata": {
        "colab": {
          "base_uri": "https://localhost:8080/"
        },
        "id": "GEntQkB__OxQ",
        "outputId": "4984bf3b-6b0b-44a8-e4ed-b995a00a8ad7"
      },
      "execution_count": 9,
      "outputs": [
        {
          "output_type": "stream",
          "name": "stdout",
          "text": [
            "[[-1.18516677  2.0676112   0.0358401  ... -0.28784938  0.37869644\n",
            "   0.23008791]\n",
            " [-1.46766817  5.0235024   3.27747675 ... -0.27858215  0.05307155\n",
            "  -0.39311025]\n",
            " [-0.8054609   0.42733468 -0.5834115  ...  0.38361565 -0.27813737\n",
            "  -0.4688065 ]\n",
            " ...\n",
            " [-0.26194234 -0.41747812  0.33345752 ...  0.43915561 -0.75945317\n",
            "  -0.5810039 ]\n",
            " [-0.58993081 -0.66137278 -0.57843322 ...  0.17969187 -0.58301304\n",
            "   0.2484466 ]\n",
            " [-0.73887131 -0.64742401 -0.8679312  ... -0.29546991  0.07777785\n",
            "  -0.53845123]]\n",
            "(4600, 43)\n"
          ]
        }
      ]
    },
    {
      "cell_type": "code",
      "source": [
        "x_set = principal_Df.iloc[:,0:44].values\n",
        "y_set = dataset.iloc[:,57].values"
      ],
      "metadata": {
        "id": "Y7RphXLp2vzH"
      },
      "execution_count": 10,
      "outputs": []
    },
    {
      "cell_type": "code",
      "source": [
        "from sklearn.model_selection import train_test_split\n",
        "X_train, X_test, y_train, y_test = train_test_split(x_set,y_set , test_size=0.20, random_state=101)"
      ],
      "metadata": {
        "id": "DqBAMlsoNtG0"
      },
      "execution_count": 11,
      "outputs": []
    },
    {
      "cell_type": "code",
      "source": [
        "plt1.plot(new_data_train,label='Inputs to decide the email')\n",
        "plt1.plot(y_train,label='Spam or non-spam')\n",
        "plt1.show()"
      ],
      "metadata": {
        "id": "4EDK3cCpOVlG"
      },
      "execution_count": null,
      "outputs": []
    },
    {
      "cell_type": "markdown",
      "source": [
        "Using KNN Clasifier"
      ],
      "metadata": {
        "id": "ay8EWPfkctjE"
      }
    },
    {
      "cell_type": "code",
      "source": [
        "from sklearn.neighbors import KNeighborsClassifier\n",
        "classifier = KNeighborsClassifier(n_neighbors=5, metric='minkowski', p=2)\n",
        "classifier.fit(X_train,y_train)"
      ],
      "metadata": {
        "colab": {
          "base_uri": "https://localhost:8080/",
          "height": 74
        },
        "id": "vyZC__XRQGcs",
        "outputId": "cb6d00c2-ac1a-44db-d034-433fc05c5d19"
      },
      "execution_count": 12,
      "outputs": [
        {
          "output_type": "execute_result",
          "data": {
            "text/plain": [
              "KNeighborsClassifier()"
            ],
            "text/html": [
              "<style>#sk-container-id-1 {color: black;background-color: white;}#sk-container-id-1 pre{padding: 0;}#sk-container-id-1 div.sk-toggleable {background-color: white;}#sk-container-id-1 label.sk-toggleable__label {cursor: pointer;display: block;width: 100%;margin-bottom: 0;padding: 0.3em;box-sizing: border-box;text-align: center;}#sk-container-id-1 label.sk-toggleable__label-arrow:before {content: \"▸\";float: left;margin-right: 0.25em;color: #696969;}#sk-container-id-1 label.sk-toggleable__label-arrow:hover:before {color: black;}#sk-container-id-1 div.sk-estimator:hover label.sk-toggleable__label-arrow:before {color: black;}#sk-container-id-1 div.sk-toggleable__content {max-height: 0;max-width: 0;overflow: hidden;text-align: left;background-color: #f0f8ff;}#sk-container-id-1 div.sk-toggleable__content pre {margin: 0.2em;color: black;border-radius: 0.25em;background-color: #f0f8ff;}#sk-container-id-1 input.sk-toggleable__control:checked~div.sk-toggleable__content {max-height: 200px;max-width: 100%;overflow: auto;}#sk-container-id-1 input.sk-toggleable__control:checked~label.sk-toggleable__label-arrow:before {content: \"▾\";}#sk-container-id-1 div.sk-estimator input.sk-toggleable__control:checked~label.sk-toggleable__label {background-color: #d4ebff;}#sk-container-id-1 div.sk-label input.sk-toggleable__control:checked~label.sk-toggleable__label {background-color: #d4ebff;}#sk-container-id-1 input.sk-hidden--visually {border: 0;clip: rect(1px 1px 1px 1px);clip: rect(1px, 1px, 1px, 1px);height: 1px;margin: -1px;overflow: hidden;padding: 0;position: absolute;width: 1px;}#sk-container-id-1 div.sk-estimator {font-family: monospace;background-color: #f0f8ff;border: 1px dotted black;border-radius: 0.25em;box-sizing: border-box;margin-bottom: 0.5em;}#sk-container-id-1 div.sk-estimator:hover {background-color: #d4ebff;}#sk-container-id-1 div.sk-parallel-item::after {content: \"\";width: 100%;border-bottom: 1px solid gray;flex-grow: 1;}#sk-container-id-1 div.sk-label:hover label.sk-toggleable__label {background-color: #d4ebff;}#sk-container-id-1 div.sk-serial::before {content: \"\";position: absolute;border-left: 1px solid gray;box-sizing: border-box;top: 0;bottom: 0;left: 50%;z-index: 0;}#sk-container-id-1 div.sk-serial {display: flex;flex-direction: column;align-items: center;background-color: white;padding-right: 0.2em;padding-left: 0.2em;position: relative;}#sk-container-id-1 div.sk-item {position: relative;z-index: 1;}#sk-container-id-1 div.sk-parallel {display: flex;align-items: stretch;justify-content: center;background-color: white;position: relative;}#sk-container-id-1 div.sk-item::before, #sk-container-id-1 div.sk-parallel-item::before {content: \"\";position: absolute;border-left: 1px solid gray;box-sizing: border-box;top: 0;bottom: 0;left: 50%;z-index: -1;}#sk-container-id-1 div.sk-parallel-item {display: flex;flex-direction: column;z-index: 1;position: relative;background-color: white;}#sk-container-id-1 div.sk-parallel-item:first-child::after {align-self: flex-end;width: 50%;}#sk-container-id-1 div.sk-parallel-item:last-child::after {align-self: flex-start;width: 50%;}#sk-container-id-1 div.sk-parallel-item:only-child::after {width: 0;}#sk-container-id-1 div.sk-dashed-wrapped {border: 1px dashed gray;margin: 0 0.4em 0.5em 0.4em;box-sizing: border-box;padding-bottom: 0.4em;background-color: white;}#sk-container-id-1 div.sk-label label {font-family: monospace;font-weight: bold;display: inline-block;line-height: 1.2em;}#sk-container-id-1 div.sk-label-container {text-align: center;}#sk-container-id-1 div.sk-container {/* jupyter's `normalize.less` sets `[hidden] { display: none; }` but bootstrap.min.css set `[hidden] { display: none !important; }` so we also need the `!important` here to be able to override the default hidden behavior on the sphinx rendered scikit-learn.org. See: https://github.com/scikit-learn/scikit-learn/issues/21755 */display: inline-block !important;position: relative;}#sk-container-id-1 div.sk-text-repr-fallback {display: none;}</style><div id=\"sk-container-id-1\" class=\"sk-top-container\"><div class=\"sk-text-repr-fallback\"><pre>KNeighborsClassifier()</pre><b>In a Jupyter environment, please rerun this cell to show the HTML representation or trust the notebook. <br />On GitHub, the HTML representation is unable to render, please try loading this page with nbviewer.org.</b></div><div class=\"sk-container\" hidden><div class=\"sk-item\"><div class=\"sk-estimator sk-toggleable\"><input class=\"sk-toggleable__control sk-hidden--visually\" id=\"sk-estimator-id-1\" type=\"checkbox\" checked><label for=\"sk-estimator-id-1\" class=\"sk-toggleable__label sk-toggleable__label-arrow\">KNeighborsClassifier</label><div class=\"sk-toggleable__content\"><pre>KNeighborsClassifier()</pre></div></div></div></div></div>"
            ]
          },
          "metadata": {},
          "execution_count": 12
        }
      ]
    },
    {
      "cell_type": "code",
      "source": [
        "y_pred = classifier.predict(X_test)\n",
        "y_pred"
      ],
      "metadata": {
        "colab": {
          "base_uri": "https://localhost:8080/"
        },
        "id": "_3IGG7Llox96",
        "outputId": "09278235-c632-40d8-ff19-7affb49c483d"
      },
      "execution_count": 13,
      "outputs": [
        {
          "output_type": "execute_result",
          "data": {
            "text/plain": [
              "array([0, 1, 0, 0, 0, 0, 0, 0, 1, 0, 0, 0, 0, 0, 0, 1, 0, 1, 1, 1, 0, 1,\n",
              "       0, 0, 0, 0, 0, 1, 1, 0, 1, 1, 1, 1, 1, 0, 1, 0, 0, 1, 0, 1, 0, 1,\n",
              "       0, 0, 0, 1, 0, 0, 0, 1, 1, 0, 1, 0, 1, 1, 1, 0, 0, 0, 0, 1, 1, 0,\n",
              "       1, 0, 0, 0, 0, 1, 1, 1, 0, 0, 0, 0, 1, 1, 0, 0, 0, 0, 0, 0, 0, 1,\n",
              "       0, 1, 1, 1, 0, 0, 0, 1, 0, 0, 1, 1, 0, 0, 0, 0, 0, 0, 1, 0, 1, 1,\n",
              "       0, 0, 0, 1, 1, 0, 1, 0, 1, 0, 0, 0, 0, 1, 0, 0, 0, 0, 1, 0, 1, 0,\n",
              "       0, 1, 1, 0, 1, 1, 0, 0, 1, 0, 0, 0, 1, 1, 1, 1, 1, 0, 0, 0, 0, 0,\n",
              "       1, 1, 0, 1, 1, 0, 0, 0, 0, 0, 1, 0, 0, 1, 1, 0, 0, 1, 0, 1, 1, 0,\n",
              "       0, 1, 1, 0, 0, 0, 0, 1, 1, 0, 0, 0, 0, 0, 0, 1, 0, 1, 0, 0, 0, 1,\n",
              "       0, 0, 0, 0, 0, 1, 1, 1, 1, 0, 1, 1, 0, 0, 0, 0, 0, 0, 0, 0, 1, 1,\n",
              "       0, 1, 0, 1, 0, 0, 0, 1, 0, 1, 0, 0, 0, 0, 1, 0, 0, 0, 0, 0, 0, 1,\n",
              "       0, 0, 1, 1, 0, 1, 0, 1, 0, 1, 1, 0, 1, 0, 0, 1, 0, 0, 0, 1, 1, 0,\n",
              "       0, 1, 0, 0, 1, 0, 0, 1, 0, 0, 1, 1, 1, 1, 0, 0, 0, 0, 0, 0, 0, 0,\n",
              "       0, 1, 0, 0, 0, 0, 0, 0, 1, 0, 1, 0, 0, 1, 1, 1, 0, 0, 1, 1, 1, 0,\n",
              "       1, 0, 0, 0, 0, 1, 0, 0, 1, 0, 0, 1, 0, 0, 0, 0, 0, 0, 0, 0, 0, 1,\n",
              "       0, 1, 0, 1, 0, 0, 0, 0, 1, 0, 0, 1, 0, 1, 1, 1, 0, 0, 1, 0, 0, 0,\n",
              "       1, 0, 1, 1, 1, 0, 0, 1, 0, 1, 1, 0, 0, 0, 0, 1, 1, 0, 0, 0, 0, 0,\n",
              "       0, 0, 0, 1, 0, 1, 0, 1, 0, 0, 0, 1, 0, 1, 0, 1, 1, 1, 0, 0, 0, 0,\n",
              "       0, 1, 0, 0, 0, 1, 0, 0, 0, 1, 1, 0, 0, 0, 0, 0, 1, 0, 0, 0, 0, 0,\n",
              "       0, 1, 0, 0, 0, 0, 1, 0, 1, 1, 0, 1, 0, 1, 0, 0, 0, 1, 1, 0, 0, 1,\n",
              "       0, 1, 1, 0, 1, 1, 0, 0, 1, 0, 0, 0, 1, 0, 0, 0, 1, 0, 0, 0, 1, 0,\n",
              "       0, 0, 0, 0, 1, 0, 0, 0, 1, 0, 0, 0, 0, 0, 1, 0, 1, 1, 0, 1, 1, 0,\n",
              "       0, 1, 1, 0, 0, 0, 0, 1, 0, 0, 0, 1, 0, 1, 1, 1, 0, 0, 0, 0, 0, 0,\n",
              "       1, 1, 0, 1, 1, 1, 0, 1, 0, 0, 0, 0, 1, 1, 0, 0, 1, 0, 0, 0, 0, 1,\n",
              "       1, 1, 0, 0, 0, 0, 0, 0, 0, 0, 1, 0, 0, 0, 0, 1, 0, 0, 0, 0, 0, 1,\n",
              "       1, 0, 1, 1, 0, 0, 0, 1, 1, 0, 0, 0, 0, 1, 1, 0, 0, 1, 0, 1, 0, 0,\n",
              "       1, 1, 0, 0, 1, 0, 1, 0, 1, 0, 0, 0, 1, 0, 0, 1, 0, 0, 0, 1, 0, 1,\n",
              "       1, 0, 0, 1, 1, 1, 0, 0, 1, 1, 0, 1, 1, 1, 1, 1, 0, 1, 1, 1, 0, 0,\n",
              "       0, 0, 0, 0, 1, 1, 0, 0, 1, 0, 0, 0, 1, 0, 0, 0, 1, 0, 1, 1, 1, 1,\n",
              "       1, 0, 1, 1, 0, 0, 1, 0, 0, 1, 1, 0, 0, 1, 0, 0, 0, 1, 1, 1, 0, 0,\n",
              "       0, 0, 1, 0, 0, 1, 1, 1, 1, 1, 1, 1, 0, 0, 1, 0, 1, 0, 0, 0, 1, 0,\n",
              "       1, 1, 1, 1, 1, 1, 1, 0, 0, 0, 0, 1, 1, 0, 0, 1, 0, 0, 1, 0, 0, 0,\n",
              "       1, 1, 0, 0, 0, 0, 0, 0, 1, 0, 1, 0, 1, 0, 0, 0, 0, 1, 0, 0, 0, 1,\n",
              "       1, 1, 1, 0, 1, 1, 0, 0, 0, 1, 1, 0, 1, 0, 0, 1, 1, 0, 0, 0, 1, 1,\n",
              "       0, 0, 0, 1, 0, 0, 0, 0, 0, 1, 1, 0, 1, 0, 0, 0, 0, 0, 0, 0, 0, 0,\n",
              "       0, 0, 1, 1, 1, 0, 0, 0, 0, 1, 1, 0, 0, 1, 1, 1, 1, 0, 1, 1, 0, 0,\n",
              "       0, 0, 0, 0, 1, 1, 0, 0, 1, 0, 0, 0, 0, 0, 0, 1, 0, 0, 0, 0, 1, 0,\n",
              "       1, 0, 0, 1, 1, 1, 1, 0, 0, 1, 0, 0, 0, 0, 1, 0, 1, 0, 1, 0, 1, 0,\n",
              "       1, 0, 1, 0, 0, 0, 0, 1, 0, 0, 0, 0, 1, 0, 0, 0, 0, 1, 1, 1, 1, 0,\n",
              "       0, 0, 1, 1, 0, 0, 1, 1, 1, 1, 1, 1, 0, 0, 0, 1, 1, 0, 1, 0, 1, 1,\n",
              "       0, 1, 0, 0, 1, 0, 1, 1, 0, 1, 1, 0, 0, 1, 0, 0, 0, 0, 0, 0, 0, 1,\n",
              "       0, 0, 0, 0, 0, 1, 0, 1, 0, 0, 1, 0, 1, 0, 0, 0, 0, 0])"
            ]
          },
          "metadata": {},
          "execution_count": 13
        }
      ]
    },
    {
      "cell_type": "code",
      "source": [
        "Accuracy_Score = classifier.score(X_test,y_test)\n",
        "Accuracy_Score"
      ],
      "metadata": {
        "colab": {
          "base_uri": "https://localhost:8080/"
        },
        "id": "PSnwmk71pUz1",
        "outputId": "b9aef9e6-f791-464c-d842-288532260baf"
      },
      "execution_count": 14,
      "outputs": [
        {
          "output_type": "execute_result",
          "data": {
            "text/plain": [
              "0.9228260869565217"
            ]
          },
          "metadata": {},
          "execution_count": 14
        }
      ]
    },
    {
      "cell_type": "code",
      "source": [
        "from sklearn.metrics import confusion_matrix\n",
        "cm = confusion_matrix(y_test, y_pred)\n",
        "cm\n",
        "\n"
      ],
      "metadata": {
        "colab": {
          "base_uri": "https://localhost:8080/"
        },
        "id": "lN5X898As7aQ",
        "outputId": "47b13990-956a-4558-b5f3-3c1881390fe5"
      },
      "execution_count": 15,
      "outputs": [
        {
          "output_type": "execute_result",
          "data": {
            "text/plain": [
              "array([[526,  30],\n",
              "       [ 41, 323]])"
            ]
          },
          "metadata": {},
          "execution_count": 15
        }
      ]
    },
    {
      "cell_type": "code",
      "source": [
        "# Visualizing a heat map\n",
        "plt1.figure(figsize=(10,7))\n",
        "sn.heatmap(cm, square=True, annot=True, fmt='d', cbar=False)\n",
        "plt1.xlabel('predicted')\n",
        "plt1.ylabel('Actual')"
      ],
      "metadata": {
        "colab": {
          "base_uri": "https://localhost:8080/",
          "height": 459
        },
        "id": "GmwGperUxY9p",
        "outputId": "d994d5a3-d358-40ba-dbf5-91e26222c940"
      },
      "execution_count": 17,
      "outputs": [
        {
          "output_type": "execute_result",
          "data": {
            "text/plain": [
              "Text(157.74, 0.5, 'Actual')"
            ]
          },
          "metadata": {},
          "execution_count": 17
        },
        {
          "output_type": "display_data",
          "data": {
            "text/plain": [
              "<Figure size 720x504 with 1 Axes>"
            ],
            "image/png": "[encoded data removed]"
          },
          "metadata": {
            "needs_background": "light"
          }
        }
      ]
    },
    {
      "cell_type": "code",
      "source": [
        "plt1.plot(y_test, label='Actual')\n",
        "plt1.plot(y_pred, label='Predicted')\n",
        "plt1.xlabel('Actual')\n",
        "plt1.ylabel('Predicted')\n",
        "plt1.show()"
      ],
      "metadata": {
        "colab": {
          "base_uri": "https://localhost:8080/",
          "height": 279
        },
        "id": "pAVGX1a6wpL9",
        "outputId": "05153333-9f0d-4f2b-cf80-50cb8286912b"
      },
      "execution_count": 18,
      "outputs": [
        {
          "output_type": "display_data",
          "data": {
            "text/plain": [
              "<Figure size 432x288 with 1 Axes>"
            ],
            "image/png": "[encoded data removed]"
          },
          "metadata": {
            "needs_background": "light"
          }
        }
      ]
    },
    {
      "cell_type": "markdown",
      "source": [
        "Using Decision Trees\n"
      ],
      "metadata": {
        "id": "q3LiAAaFMHZ3"
      }
    },
    {
      "cell_type": "code",
      "source": [
        "from sklearn.tree import DecisionTreeClassifier"
      ],
      "metadata": {
        "id": "ZK_58o5LgR5t"
      },
      "execution_count": 15,
      "outputs": []
    },
    {
      "cell_type": "code",
      "source": [
        "dtree=DecisionTreeClassifier()"
      ],
      "metadata": {
        "id": "6nlm0Bkx-qL3"
      },
      "execution_count": 16,
      "outputs": []
    },
    {
      "cell_type": "code",
      "source": [
        "dtree.fit(X_train,y_train)"
      ],
      "metadata": {
        "id": "wPsiYhnk-0hD"
      },
      "execution_count": null,
      "outputs": []
    },
    {
      "cell_type": "code",
      "source": [
        "predictions=dtree.predict(X_test)"
      ],
      "metadata": {
        "id": "kRKMnusi_ImD"
      },
      "execution_count": 18,
      "outputs": []
    },
    {
      "cell_type": "code",
      "source": [
        "predictions"
      ],
      "metadata": {
        "id": "zRHgu7e3_bjY"
      },
      "execution_count": null,
      "outputs": []
    },
    {
      "cell_type": "code",
      "source": [
        "Accuracy_Score = dtree.score(X_test,y_test)\n",
        "Accuracy_Score"
      ],
      "metadata": {
        "id": "Bzk6yvVX_RPs"
      },
      "execution_count": null,
      "outputs": []
    },
    {
      "cell_type": "code",
      "source": [
        "from sklearn.metrics import classification_report,confusion_matrix"
      ],
      "metadata": {
        "id": "jYEgY3Ft_4ie"
      },
      "execution_count": 21,
      "outputs": []
    },
    {
      "cell_type": "code",
      "source": [
        "print(classification_report(y_test,predictions))"
      ],
      "metadata": {
        "id": "cytVSqFL_8sm"
      },
      "execution_count": null,
      "outputs": []
    },
    {
      "cell_type": "code",
      "source": [
        "print(confusion_matrix(y_test,predictions) )"
      ],
      "metadata": {
        "id": "HSdJAOG5ABZa"
      },
      "execution_count": null,
      "outputs": []
    },
    {
      "cell_type": "code",
      "source": [
        "# Visualizing a heat map\n",
        "plt1.figure(figsize=(10,7))\n",
        "sn.heatmap(cm, annot=True)\n",
        "plt1.xlabel('Predicted')\n",
        "plt1.ylabel('Actual')"
      ],
      "metadata": {
        "id": "Z9i0LAJVy9Uv"
      },
      "execution_count": null,
      "outputs": []
    }
  ]
}